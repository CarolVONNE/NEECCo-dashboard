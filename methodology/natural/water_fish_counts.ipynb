{
 "cells": [
  {
   "cell_type": "code",
   "execution_count": 1,
   "metadata": {},
   "outputs": [],
   "source": [
    "import pandas as pd \n",
    "import numpy as np"
   ]
  },
  {
   "cell_type": "code",
   "execution_count": 24,
   "metadata": {},
   "outputs": [],
   "source": [
    "tees = pd.read_excel('data/River_Tees_daily_and_monthly_fish_counts.xlsx', sheet_name='Monthly_counts', skiprows=3).drop('Total', axis=1)[:13]"
   ]
  },
  {
   "cell_type": "code",
   "execution_count": 25,
   "metadata": {},
   "outputs": [],
   "source": [
    "wear = pd.read_excel('data/River_Wear_daily_and_monthly_fish_counts.xlsx', sheet_name='Monthly_counts_combined', skiprows=3).drop('Total', axis=1)[:30]"
   ]
  },
  {
   "cell_type": "code",
   "execution_count": 26,
   "metadata": {},
   "outputs": [],
   "source": [
    "tyne = pd.read_excel('data/River_Tyne_daily_and_monthly_fish_counts.xlsx', sheet_name='Monthly_counts', skiprows=3).drop('Total', axis=1)[:28]"
   ]
  },
  {
   "cell_type": "code",
   "execution_count": 43,
   "metadata": {},
   "outputs": [],
   "source": [
    "def make_series(data):\n",
    "    data = data.apply(pd.to_numeric, errors='coerce')\n",
    "    data = pd.melt(data, id_vars=[\"Year\"], var_name=\"Month\", value_name = \"Count\")\n",
    "    data['Month'] = data.Month + \" \" + data.Year.map(str)\n",
    "    data = data.drop('Year', axis=1)\n",
    "    data[\"Month\"] = pd.to_datetime(data.Month, format=\"%b %Y\", dayfirst=True)\n",
    "    #data = data.sort(\"Month\")\n",
    "    data = data.set_index(\"Month\")\n",
    "    return data"
   ]
  },
  {
   "cell_type": "code",
   "execution_count": 47,
   "metadata": {},
   "outputs": [],
   "source": [
    "tyne_series = make_series(tyne)\n",
    "tees_series = make_series(tees)\n",
    "wear_series = make_series(wear)\n"
   ]
  },
  {
   "cell_type": "code",
   "execution_count": 51,
   "metadata": {},
   "outputs": [],
   "source": [
    "all_rivers = tyne_series.join(tees_series, lsuffix='_tyne', rsuffix='_tees').join(wear_series, lsuffix='', rsuffix='_wear')"
   ]
  },
  {
   "cell_type": "code",
   "execution_count": 54,
   "metadata": {},
   "outputs": [],
   "source": [
    "all_rivers.sort_index(inplace=True)"
   ]
  },
  {
   "cell_type": "code",
   "execution_count": 59,
   "metadata": {},
   "outputs": [
    {
     "name": "stderr",
     "output_type": "stream",
     "text": [
      "/var/folders/7k/cr48jnws21q3gbkzbfqkhg000000gp/T/ipykernel_4053/1554720463.py:1: FutureWarning:\n",
      "\n",
      "This dataframe has a column name that matches the 'value_name' column name of the resulting Dataframe. In the future this will raise an error, please set the 'value_name' parameter of DataFrame.melt to a unique name.\n",
      "\n"
     ]
    }
   ],
   "source": [
    "all_rivers = pd.melt(all_rivers.reset_index(), id_vars=[\"Month\"], var_name=\"River\", value_name = \"Count\")\n",
    "all_rivers = all_rivers.replace('Count', 'Wear').replace('Count_tyne', 'Tyne').replace('Count_tees', 'Tees')"
   ]
  },
  {
   "cell_type": "code",
   "execution_count": 60,
   "metadata": {},
   "outputs": [
    {
     "data": {
      "text/html": [
       "<div>\n",
       "<style scoped>\n",
       "    .dataframe tbody tr th:only-of-type {\n",
       "        vertical-align: middle;\n",
       "    }\n",
       "\n",
       "    .dataframe tbody tr th {\n",
       "        vertical-align: top;\n",
       "    }\n",
       "\n",
       "    .dataframe thead th {\n",
       "        text-align: right;\n",
       "    }\n",
       "</style>\n",
       "<table border=\"1\" class=\"dataframe\">\n",
       "  <thead>\n",
       "    <tr style=\"text-align: right;\">\n",
       "      <th></th>\n",
       "      <th>Month</th>\n",
       "      <th>River</th>\n",
       "      <th>Count</th>\n",
       "    </tr>\n",
       "  </thead>\n",
       "  <tbody>\n",
       "    <tr>\n",
       "      <th>0</th>\n",
       "      <td>1996-01-01</td>\n",
       "      <td>Tyne</td>\n",
       "      <td>NaN</td>\n",
       "    </tr>\n",
       "    <tr>\n",
       "      <th>1</th>\n",
       "      <td>1996-02-01</td>\n",
       "      <td>Tyne</td>\n",
       "      <td>NaN</td>\n",
       "    </tr>\n",
       "    <tr>\n",
       "      <th>2</th>\n",
       "      <td>1996-03-01</td>\n",
       "      <td>Tyne</td>\n",
       "      <td>NaN</td>\n",
       "    </tr>\n",
       "    <tr>\n",
       "      <th>3</th>\n",
       "      <td>1996-04-01</td>\n",
       "      <td>Tyne</td>\n",
       "      <td>NaN</td>\n",
       "    </tr>\n",
       "    <tr>\n",
       "      <th>4</th>\n",
       "      <td>1996-05-01</td>\n",
       "      <td>Tyne</td>\n",
       "      <td>NaN</td>\n",
       "    </tr>\n",
       "    <tr>\n",
       "      <th>...</th>\n",
       "      <td>...</td>\n",
       "      <td>...</td>\n",
       "      <td>...</td>\n",
       "    </tr>\n",
       "    <tr>\n",
       "      <th>1003</th>\n",
       "      <td>2023-08-01</td>\n",
       "      <td>Wear</td>\n",
       "      <td>NaN</td>\n",
       "    </tr>\n",
       "    <tr>\n",
       "      <th>1004</th>\n",
       "      <td>2023-09-01</td>\n",
       "      <td>Wear</td>\n",
       "      <td>NaN</td>\n",
       "    </tr>\n",
       "    <tr>\n",
       "      <th>1005</th>\n",
       "      <td>2023-10-01</td>\n",
       "      <td>Wear</td>\n",
       "      <td>NaN</td>\n",
       "    </tr>\n",
       "    <tr>\n",
       "      <th>1006</th>\n",
       "      <td>2023-11-01</td>\n",
       "      <td>Wear</td>\n",
       "      <td>NaN</td>\n",
       "    </tr>\n",
       "    <tr>\n",
       "      <th>1007</th>\n",
       "      <td>2023-12-01</td>\n",
       "      <td>Wear</td>\n",
       "      <td>NaN</td>\n",
       "    </tr>\n",
       "  </tbody>\n",
       "</table>\n",
       "<p>1008 rows × 3 columns</p>\n",
       "</div>"
      ],
      "text/plain": [
       "          Month River  Count\n",
       "0    1996-01-01  Tyne    NaN\n",
       "1    1996-02-01  Tyne    NaN\n",
       "2    1996-03-01  Tyne    NaN\n",
       "3    1996-04-01  Tyne    NaN\n",
       "4    1996-05-01  Tyne    NaN\n",
       "...         ...   ...    ...\n",
       "1003 2023-08-01  Wear    NaN\n",
       "1004 2023-09-01  Wear    NaN\n",
       "1005 2023-10-01  Wear    NaN\n",
       "1006 2023-11-01  Wear    NaN\n",
       "1007 2023-12-01  Wear    NaN\n",
       "\n",
       "[1008 rows x 3 columns]"
      ]
     },
     "execution_count": 60,
     "metadata": {},
     "output_type": "execute_result"
    }
   ],
   "source": [
    "all_rivers"
   ]
  },
  {
   "cell_type": "code",
   "execution_count": 61,
   "metadata": {},
   "outputs": [],
   "source": [
    "all_rivers.to_csv('data/natural_water_fish.csv')"
   ]
  },
  {
   "cell_type": "code",
   "execution_count": null,
   "metadata": {},
   "outputs": [],
   "source": []
  }
 ],
 "metadata": {
  "kernelspec": {
   "display_name": ".venv",
   "language": "python",
   "name": "python3"
  },
  "language_info": {
   "codemirror_mode": {
    "name": "ipython",
    "version": 3
   },
   "file_extension": ".py",
   "mimetype": "text/x-python",
   "name": "python",
   "nbconvert_exporter": "python",
   "pygments_lexer": "ipython3",
   "version": "3.10.4"
  },
  "orig_nbformat": 4
 },
 "nbformat": 4,
 "nbformat_minor": 2
}
