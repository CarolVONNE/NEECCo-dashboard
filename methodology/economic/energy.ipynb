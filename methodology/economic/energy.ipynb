{
 "cells": [
  {
   "cell_type": "code",
   "execution_count": 1,
   "metadata": {},
   "outputs": [],
   "source": [
    "import pandas as pd\n",
    "import janitor\n",
    "import numpy as np"
   ]
  },
  {
   "attachments": {},
   "cell_type": "markdown",
   "metadata": {},
   "source": [
    "## Renewable capacity"
   ]
  },
  {
   "cell_type": "code",
   "execution_count": 23,
   "metadata": {},
   "outputs": [],
   "source": [
    "generation_gva = pd.read_excel('renewable_capacity.xls', sheet_name='Trends', skiprows=6).clean_names()[:15]\n",
    "generation_gva = generation_gva[generation_gva.region.isin(['North East', 'UK Total'])]"
   ]
  },
  {
   "cell_type": "code",
   "execution_count": 29,
   "metadata": {},
   "outputs": [
    {
     "data": {
      "text/html": [
       "<div>\n",
       "<style scoped>\n",
       "    .dataframe tbody tr th:only-of-type {\n",
       "        vertical-align: middle;\n",
       "    }\n",
       "\n",
       "    .dataframe tbody tr th {\n",
       "        vertical-align: top;\n",
       "    }\n",
       "\n",
       "    .dataframe thead th {\n",
       "        text-align: right;\n",
       "    }\n",
       "</style>\n",
       "<table border=\"1\" class=\"dataframe\">\n",
       "  <thead>\n",
       "    <tr style=\"text-align: right;\">\n",
       "      <th></th>\n",
       "      <th>region</th>\n",
       "      <th>2003</th>\n",
       "      <th>2004</th>\n",
       "      <th>2005</th>\n",
       "      <th>2006</th>\n",
       "      <th>2007</th>\n",
       "      <th>2008</th>\n",
       "      <th>2009</th>\n",
       "      <th>2010</th>\n",
       "      <th>2011</th>\n",
       "      <th>2012</th>\n",
       "      <th>2013</th>\n",
       "      <th>2014</th>\n",
       "      <th>2015</th>\n",
       "      <th>2016</th>\n",
       "      <th>2017</th>\n",
       "      <th>2018</th>\n",
       "      <th>2019</th>\n",
       "      <th>2020</th>\n",
       "      <th>2021</th>\n",
       "    </tr>\n",
       "  </thead>\n",
       "  <tbody>\n",
       "    <tr>\n",
       "      <th>3</th>\n",
       "      <td>North East</td>\n",
       "      <td>80.9</td>\n",
       "      <td>112.3</td>\n",
       "      <td>107.6</td>\n",
       "      <td>112.0</td>\n",
       "      <td>154.600</td>\n",
       "      <td>172.671400</td>\n",
       "      <td>246.716600</td>\n",
       "      <td>284.051588</td>\n",
       "      <td>332.408188</td>\n",
       "      <td>449.899668</td>\n",
       "      <td>661.144158</td>\n",
       "      <td>711.668618</td>\n",
       "      <td>826.978237</td>\n",
       "      <td>920.359378</td>\n",
       "      <td>1067.056158</td>\n",
       "      <td>1551.772302</td>\n",
       "      <td>1556.764076</td>\n",
       "      <td>1561.306556</td>\n",
       "      <td>1567.507346</td>\n",
       "    </tr>\n",
       "    <tr>\n",
       "      <th>14</th>\n",
       "      <td>UK Total</td>\n",
       "      <td>3458.7</td>\n",
       "      <td>3771.8</td>\n",
       "      <td>4534.0</td>\n",
       "      <td>5031.7</td>\n",
       "      <td>5745.568</td>\n",
       "      <td>6836.901207</td>\n",
       "      <td>8004.189187</td>\n",
       "      <td>9255.875526</td>\n",
       "      <td>12381.250943</td>\n",
       "      <td>15648.592973</td>\n",
       "      <td>19960.876958</td>\n",
       "      <td>24919.540518</td>\n",
       "      <td>30965.664201</td>\n",
       "      <td>35650.741418</td>\n",
       "      <td>40292.553133</td>\n",
       "      <td>44128.711363</td>\n",
       "      <td>46971.249552</td>\n",
       "      <td>47917.715001</td>\n",
       "      <td>49702.270500</td>\n",
       "    </tr>\n",
       "  </tbody>\n",
       "</table>\n",
       "</div>"
      ],
      "text/plain": [
       "        region    2003    2004    2005    2006      2007         2008  \\\n",
       "3   North East    80.9   112.3   107.6   112.0   154.600   172.671400   \n",
       "14    UK Total  3458.7  3771.8  4534.0  5031.7  5745.568  6836.901207   \n",
       "\n",
       "           2009         2010          2011          2012          2013  \\\n",
       "3    246.716600   284.051588    332.408188    449.899668    661.144158   \n",
       "14  8004.189187  9255.875526  12381.250943  15648.592973  19960.876958   \n",
       "\n",
       "            2014          2015          2016          2017          2018  \\\n",
       "3     711.668618    826.978237    920.359378   1067.056158   1551.772302   \n",
       "14  24919.540518  30965.664201  35650.741418  40292.553133  44128.711363   \n",
       "\n",
       "            2019          2020          2021  \n",
       "3    1556.764076   1561.306556   1567.507346  \n",
       "14  46971.249552  47917.715001  49702.270500  "
      ]
     },
     "execution_count": 29,
     "metadata": {},
     "output_type": "execute_result"
    }
   ],
   "source": [
    "generation_gva"
   ]
  },
  {
   "cell_type": "code",
   "execution_count": 57,
   "metadata": {},
   "outputs": [],
   "source": [
    "long_generation = generation_gva.set_index('region').melt(ignore_index=False).reset_index().rename(columns = {'variable':'year'})"
   ]
  },
  {
   "cell_type": "code",
   "execution_count": 59,
   "metadata": {},
   "outputs": [],
   "source": [
    "long_generation.to_csv('economic_energy_generation_capacity.csv')"
   ]
  },
  {
   "attachments": {},
   "cell_type": "markdown",
   "metadata": {},
   "source": [
    "## Gas and electric use"
   ]
  },
  {
   "cell_type": "code",
   "execution_count": 11,
   "metadata": {},
   "outputs": [],
   "source": [
    "subnational_electric = pd.read_excel('subnational_electricity_consumption_statistics_2005-2020.xlsx', sheet_name=None, skiprows=4)\n",
    "subnational_gas = pd.read_excel('subnational_gas_consumption_statistics_2005-2020.xlsx', sheet_name=None, skiprows=5)"
   ]
  },
  {
   "cell_type": "code",
   "execution_count": 12,
   "metadata": {},
   "outputs": [],
   "source": [
    "electric_years = ['2005', '2006', '2007', '2008', '2009', '2010', '2011', '2012', '2013', '2014', '2015', '2016', '2017', '2018', '2019',  '2020']\n",
    "gas_years = ['2005', '2006', '2007', '2008', '2009', '2010', '2011', '2012', '2013', '2014', '2015', '2016', '2017', '2018', '2019',  '2020']"
   ]
  },
  {
   "cell_type": "code",
   "execution_count": 13,
   "metadata": {},
   "outputs": [],
   "source": [
    "df = pd.DataFrame(columns=['region', 'year', 'type','value'])\n",
    "\n",
    "for ix, year in enumerate(electric_years):\n",
    "    elec_year = subnational_electric[year].clean_names()\n",
    "    gas_year = subnational_gas[year].clean_names()\n",
    "    nat_elec = elec_year[(elec_year.local_authority == 'All local authorities') & (elec_year.country_or_region.str.contains('Great Britain'))][['mean_consumption\\n_kwh_per_meter_\\nall_meters']].values[0,0]\n",
    "    ne_elec = elec_year[(elec_year.local_authority == 'All local authorities') & (elec_year.country_or_region.str.contains('North East'))][['mean_consumption\\n_kwh_per_meter_\\nall_meters']].values[0,0]\n",
    "    nat_gas = gas_year[(gas_year.local_authority == 'All local authorities') & (gas_year.country_or_region.str.contains('Great Britain'))][['mean_consumption\\n_kwh_per_meter_\\nall_meters']].values[0,0]\n",
    "    ne_gas = gas_year[(gas_year.local_authority == 'All local authorities') & (gas_year.country_or_region.str.contains('North East'))][['mean_consumption\\n_kwh_per_meter_\\nall_meters']].values[0,0]\n",
    "    \n",
    "    df = pd.concat([df, pd.DataFrame.from_records([{'region': 'gb', 'year':year, 'type':'electric', 'value':nat_elec}])])\n",
    "    df = pd.concat([df, pd.DataFrame.from_records([{'region':'ne', 'year':year, 'type':'electric', 'value':ne_elec}])])\n",
    "    df = pd.concat([df, pd.DataFrame.from_records([{'region':'gb', 'year':year, 'type':'gas', 'value':nat_gas}])])\n",
    "    df = pd.concat([df, pd.DataFrame.from_records([{'region':'ne', 'year':year, 'type':'gas', 'value':ne_gas}])])\n",
    "\n",
    "df.reset_index(inplace=True, drop=True)"
   ]
  },
  {
   "cell_type": "code",
   "execution_count": null,
   "metadata": {},
   "outputs": [],
   "source": [
    "df = df.replace(['gb','ne'], ['GB Total', 'North East']).replace(['electric', 'gas'], ['Electric', 'Gas'])"
   ]
  },
  {
   "cell_type": "code",
   "execution_count": 65,
   "metadata": {},
   "outputs": [],
   "source": [
    "df.to_csv('economic_energy_gas_electric.csv')"
   ]
  },
  {
   "attachments": {},
   "cell_type": "markdown",
   "metadata": {},
   "source": [
    "## Total use by type"
   ]
  },
  {
   "cell_type": "code",
   "execution_count": 2,
   "metadata": {},
   "outputs": [],
   "source": [
    "subnational_total = pd.read_excel('subnational_total_final_energy_consumption_2019.xlsx', sheet_name=None, skiprows=6)"
   ]
  },
  {
   "cell_type": "code",
   "execution_count": 3,
   "metadata": {},
   "outputs": [],
   "source": [
    "total_years = ['2005', '2006', '2007', '2008', '2009', '2010', '2011', '2012', '2013', '2014', '2015', '2016', '2017', '2018r', '2019r']"
   ]
  },
  {
   "cell_type": "code",
   "execution_count": 4,
   "metadata": {},
   "outputs": [],
   "source": [
    "df_total = pd.DataFrame(columns=['region', 'year', 'type','value'])\n",
    "\n",
    "for ix, year in enumerate(total_years):\n",
    "    total_year = subnational_total[year].clean_names()\n",
    "    nat_domestic = total_year[(total_year.local_authority == 'All local authorities') & (total_year.country_or_region.str.contains('Great Britain'))][['all_fuels_\\ndomestic']].values[0,0]\n",
    "    nat_transport = total_year[(total_year.local_authority == 'All local authorities') & (total_year.country_or_region.str.contains('Great Britain'))][['all_fuels_\\ntransport\\n[note1]']].values[0,0]\n",
    "    nat_commercial = total_year[(total_year.local_authority == 'All local authorities') & (total_year.country_or_region.str.contains('Great Britain'))][['all_fuels_\\nindustrial_\\ncommercial\\nand_other']].values[0,0]\n",
    "    ne_domestic = total_year[(total_year.local_authority == 'All local authorities') & (total_year.country_or_region.str.contains('North East'))][['all_fuels_\\ndomestic']].values[0,0]\n",
    "    ne_transport = total_year[(total_year.local_authority == 'All local authorities') & (total_year.country_or_region.str.contains('North East'))][['all_fuels_\\ntransport\\n[note1]']].values[0,0]\n",
    "    ne_commercial = total_year[(total_year.local_authority == 'All local authorities') & (total_year.country_or_region.str.contains('North East'))][['all_fuels_\\nindustrial_\\ncommercial\\nand_other']].values[0,0]\n",
    "\n",
    "    df_total = pd.concat([df_total, pd.DataFrame.from_records([{'region': 'gb', 'year':year.strip('r'), 'type':'domestic', 'value':nat_domestic}])])\n",
    "    df_total = pd.concat([df_total, pd.DataFrame.from_records([{'region': 'gb', 'year':year.strip('r'), 'type':'transport', 'value':nat_transport}])])\n",
    "    df_total = pd.concat([df_total, pd.DataFrame.from_records([{'region': 'gb', 'year':year.strip('r'), 'type':'commercial', 'value':nat_commercial}])])\n",
    "    df_total = pd.concat([df_total, pd.DataFrame.from_records([{'region': 'ne', 'year':year.strip('r'), 'type':'domestic', 'value':ne_domestic}])])\n",
    "    df_total = pd.concat([df_total, pd.DataFrame.from_records([{'region': 'ne', 'year':year.strip('r'), 'type':'transport', 'value':ne_transport}])])\n",
    "    df_total = pd.concat([df_total, pd.DataFrame.from_records([{'region': 'ne', 'year':year.strip('r'), 'type':'commercial', 'value':ne_commercial}])])\n",
    "\n",
    "\n",
    "df_total.reset_index(inplace=True, drop=True)"
   ]
  },
  {
   "cell_type": "code",
   "execution_count": 8,
   "metadata": {},
   "outputs": [],
   "source": [
    "df_total = df_total.replace(['gb','ne'], ['GB Total', 'North East']).replace(['domestic', 'transport', 'commercial'], ['Domestic', 'Transport', 'Commercial'])"
   ]
  },
  {
   "cell_type": "code",
   "execution_count": 10,
   "metadata": {},
   "outputs": [],
   "source": [
    "df_total.to_csv('economic_energy_total.csv')"
   ]
  }
 ],
 "metadata": {
  "kernelspec": {
   "display_name": "Python 3.10.4 ('.venv': pipenv)",
   "language": "python",
   "name": "python3"
  },
  "language_info": {
   "codemirror_mode": {
    "name": "ipython",
    "version": 3
   },
   "file_extension": ".py",
   "mimetype": "text/x-python",
   "name": "python",
   "nbconvert_exporter": "python",
   "pygments_lexer": "ipython3",
   "version": "3.10.4"
  },
  "orig_nbformat": 4,
  "vscode": {
   "interpreter": {
    "hash": "ebddedae659631653ed81e43feff8efc98a3d532a8ee18ce9c64cd7bb6fb96bf"
   }
  }
 },
 "nbformat": 4,
 "nbformat_minor": 2
}
